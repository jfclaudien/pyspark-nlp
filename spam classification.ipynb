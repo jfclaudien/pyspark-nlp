{
 "cells": [
  {
   "cell_type": "code",
   "execution_count": 1,
   "id": "52c5cbf3",
   "metadata": {},
   "outputs": [],
   "source": [
    "import pyspark\n",
    "from pyspark.sql import SparkSession"
   ]
  },
  {
   "cell_type": "code",
   "execution_count": 2,
   "id": "826136d2",
   "metadata": {},
   "outputs": [
    {
     "name": "stdout",
     "output_type": "stream",
     "text": [
      "Cores: 1\n"
     ]
    },
    {
     "data": {
      "text/html": [
       "\n",
       "            <div>\n",
       "                <p><b>SparkSession - in-memory</b></p>\n",
       "                \n",
       "        <div>\n",
       "            <p><b>SparkContext</b></p>\n",
       "\n",
       "            <p><a href=\"http://DESKTOP-TKLQQ6P:4041\">Spark UI</a></p>\n",
       "\n",
       "            <dl>\n",
       "              <dt>Version</dt>\n",
       "                <dd><code>v3.0.2</code></dd>\n",
       "              <dt>Master</dt>\n",
       "                <dd><code>local[*]</code></dd>\n",
       "              <dt>AppName</dt>\n",
       "                <dd><code>Spam Classifier</code></dd>\n",
       "            </dl>\n",
       "        </div>\n",
       "        \n",
       "            </div>\n",
       "        "
      ],
      "text/plain": [
       "<pyspark.sql.session.SparkSession at 0x297f185ccc8>"
      ]
     },
     "execution_count": 2,
     "metadata": {},
     "output_type": "execute_result"
    }
   ],
   "source": [
    "spark = SparkSession.builder.appName('Spam Classifier').getOrCreate()\n",
    "cores = spark._jsc.sc().getExecutorMemoryStatus().keySet().size()\n",
    "print(f'Cores: {cores}')\n",
    "spark"
   ]
  },
  {
   "cell_type": "code",
   "execution_count": 3,
   "id": "13b204c8",
   "metadata": {},
   "outputs": [],
   "source": [
    "data = spark.read.csv('./data/SMSSpamCollection', inferSchema= True, sep= '\\t')"
   ]
  },
  {
   "cell_type": "code",
   "execution_count": 4,
   "id": "63e15a99",
   "metadata": {},
   "outputs": [],
   "source": [
    "data = data.withColumnRenamed('_c0', 'class').withColumnRenamed('_c1', 'text')"
   ]
  },
  {
   "cell_type": "code",
   "execution_count": 5,
   "id": "aef4b517",
   "metadata": {},
   "outputs": [
    {
     "name": "stdout",
     "output_type": "stream",
     "text": [
      "+-----+-----------------------------------------------------------------------------------------------------------------------------------------------------------+\n",
      "|class|text                                                                                                                                                       |\n",
      "+-----+-----------------------------------------------------------------------------------------------------------------------------------------------------------+\n",
      "|ham  |Go until jurong point, crazy.. Available only in bugis n great world la e buffet... Cine there got amore wat...                                            |\n",
      "|ham  |Ok lar... Joking wif u oni...                                                                                                                              |\n",
      "|spam |Free entry in 2 a wkly comp to win FA Cup final tkts 21st May 2005. Text FA to 87121 to receive entry question(std txt rate)T&C's apply 08452810075over18's|\n",
      "|ham  |U dun say so early hor... U c already then say...                                                                                                          |\n",
      "+-----+-----------------------------------------------------------------------------------------------------------------------------------------------------------+\n",
      "only showing top 4 rows\n",
      "\n"
     ]
    }
   ],
   "source": [
    "data.show(4, False)"
   ]
  },
  {
   "cell_type": "code",
   "execution_count": 6,
   "id": "04938fab",
   "metadata": {},
   "outputs": [],
   "source": [
    "from pyspark.sql.functions import length"
   ]
  },
  {
   "cell_type": "code",
   "execution_count": 7,
   "id": "625eb02b",
   "metadata": {},
   "outputs": [],
   "source": [
    "data = data.withColumn('length', length(data.text))"
   ]
  },
  {
   "cell_type": "code",
   "execution_count": 8,
   "id": "e3338087",
   "metadata": {},
   "outputs": [
    {
     "name": "stdout",
     "output_type": "stream",
     "text": [
      "+-----+--------------------+------+\n",
      "|class|                text|length|\n",
      "+-----+--------------------+------+\n",
      "|  ham|Go until jurong p...|   111|\n",
      "|  ham|Ok lar... Joking ...|    29|\n",
      "| spam|Free entry in 2 a...|   155|\n",
      "|  ham|U dun say so earl...|    49|\n",
      "|  ham|Nah I don't think...|    61|\n",
      "+-----+--------------------+------+\n",
      "only showing top 5 rows\n",
      "\n"
     ]
    }
   ],
   "source": [
    "data.show(5)"
   ]
  },
  {
   "cell_type": "code",
   "execution_count": 9,
   "id": "2274077a",
   "metadata": {},
   "outputs": [
    {
     "name": "stdout",
     "output_type": "stream",
     "text": [
      "+-----+-----------------+\n",
      "|class|      avg(length)|\n",
      "+-----+-----------------+\n",
      "|  ham|71.45431945307645|\n",
      "| spam|138.6706827309237|\n",
      "+-----+-----------------+\n",
      "\n"
     ]
    }
   ],
   "source": [
    "data.groupBy('class').mean().show()"
   ]
  },
  {
   "cell_type": "code",
   "execution_count": 10,
   "id": "a0888371",
   "metadata": {},
   "outputs": [],
   "source": [
    "from pyspark.ml.feature import (Tokenizer, StopWordsRemover, \n",
    "                                CountVectorizer, IDF, StringIndexer, \n",
    "                                VectorAssembler)"
   ]
  },
  {
   "cell_type": "code",
   "execution_count": 11,
   "id": "11f813f7",
   "metadata": {},
   "outputs": [],
   "source": [
    "tokenizer = Tokenizer(inputCol= 'text', outputCol= 'token_text')\n",
    "stop_remove = StopWordsRemover(inputCol= 'token_text', outputCol= 'stop_token')\n",
    "count_vec = CountVectorizer(inputCol= 'stop_token', outputCol= 'c_vec')\n",
    "idf = IDF(inputCol= 'c_vec', outputCol= 'tf_idf')"
   ]
  },
  {
   "cell_type": "code",
   "execution_count": 12,
   "id": "a7fad4d4",
   "metadata": {},
   "outputs": [],
   "source": [
    "ham_spam_label_encoder = StringIndexer(inputCol='class', outputCol= 'label')"
   ]
  },
  {
   "cell_type": "code",
   "execution_count": 13,
   "id": "f9ec283a",
   "metadata": {},
   "outputs": [],
   "source": [
    "clean_up = VectorAssembler(inputCols= ['tf_idf', 'length'], outputCol= 'features')"
   ]
  },
  {
   "cell_type": "code",
   "execution_count": 14,
   "id": "117d98fa",
   "metadata": {},
   "outputs": [],
   "source": [
    "from pyspark.ml.classification import NaiveBayes"
   ]
  },
  {
   "cell_type": "code",
   "execution_count": 15,
   "id": "f9c2981b",
   "metadata": {},
   "outputs": [],
   "source": [
    "nb = NaiveBayes()"
   ]
  },
  {
   "cell_type": "code",
   "execution_count": 16,
   "id": "47060b1b",
   "metadata": {},
   "outputs": [],
   "source": [
    "from pyspark.ml import Pipeline"
   ]
  },
  {
   "cell_type": "code",
   "execution_count": 17,
   "id": "7cf68aa1",
   "metadata": {},
   "outputs": [],
   "source": [
    "data_prep_pipe = Pipeline(stages= [ham_spam_label_encoder, \n",
    "                                   tokenizer, \n",
    "                                   stop_remove, \n",
    "                                   count_vec, \n",
    "                                   idf, clean_up])"
   ]
  },
  {
   "cell_type": "code",
   "execution_count": 18,
   "id": "c9c223da",
   "metadata": {},
   "outputs": [],
   "source": [
    "cleaner = data_prep_pipe.fit(data)"
   ]
  },
  {
   "cell_type": "code",
   "execution_count": 19,
   "id": "78d4cdf4",
   "metadata": {},
   "outputs": [],
   "source": [
    "clean_data = cleaner.transform(data)"
   ]
  },
  {
   "cell_type": "code",
   "execution_count": 20,
   "id": "fd4acb73",
   "metadata": {},
   "outputs": [
    {
     "name": "stdout",
     "output_type": "stream",
     "text": [
      "['class', 'text', 'length', 'label', 'token_text', 'stop_token', 'c_vec', 'tf_idf', 'features']\n"
     ]
    }
   ],
   "source": [
    "print(clean_data.columns)"
   ]
  },
  {
   "cell_type": "code",
   "execution_count": 21,
   "id": "4e8963d5",
   "metadata": {},
   "outputs": [],
   "source": [
    "clean_data = clean_data.select('label', 'features')"
   ]
  },
  {
   "cell_type": "code",
   "execution_count": 22,
   "id": "94d228d1",
   "metadata": {},
   "outputs": [
    {
     "name": "stdout",
     "output_type": "stream",
     "text": [
      "+-----+--------------------+\n",
      "|label|            features|\n",
      "+-----+--------------------+\n",
      "|  0.0|(13424,[7,11,31,6...|\n",
      "|  0.0|(13424,[0,24,297,...|\n",
      "|  1.0|(13424,[2,13,19,3...|\n",
      "|  0.0|(13424,[0,70,80,1...|\n",
      "|  0.0|(13424,[36,134,31...|\n",
      "+-----+--------------------+\n",
      "only showing top 5 rows\n",
      "\n"
     ]
    }
   ],
   "source": [
    "clean_data.show(5)"
   ]
  },
  {
   "cell_type": "code",
   "execution_count": 23,
   "id": "109eaf78",
   "metadata": {},
   "outputs": [],
   "source": [
    "xTrain, xTest = clean_data.randomSplit([0.7, 0.3], seed= 42)"
   ]
  },
  {
   "cell_type": "code",
   "execution_count": 24,
   "id": "df5791cd",
   "metadata": {},
   "outputs": [],
   "source": [
    "spam_detector = nb.fit(xTrain)"
   ]
  },
  {
   "cell_type": "code",
   "execution_count": 25,
   "id": "31d87c72",
   "metadata": {},
   "outputs": [
    {
     "name": "stdout",
     "output_type": "stream",
     "text": [
      "root\n",
      " |-- class: string (nullable = true)\n",
      " |-- text: string (nullable = true)\n",
      " |-- length: integer (nullable = true)\n",
      "\n"
     ]
    }
   ],
   "source": [
    "data.printSchema()"
   ]
  },
  {
   "cell_type": "code",
   "execution_count": 26,
   "id": "c669c3d8",
   "metadata": {},
   "outputs": [],
   "source": [
    "test_result = spam_detector.transform(xTest)"
   ]
  },
  {
   "cell_type": "code",
   "execution_count": 27,
   "id": "ff3205e8",
   "metadata": {},
   "outputs": [
    {
     "name": "stdout",
     "output_type": "stream",
     "text": [
      "+-----+--------------------+--------------------+--------------------+----------+\n",
      "|label|            features|       rawPrediction|         probability|prediction|\n",
      "+-----+--------------------+--------------------+--------------------+----------+\n",
      "|  0.0|(13424,[0,1,2,41,...|[-1060.7325420854...|[1.0,9.6391158107...|       0.0|\n",
      "|  0.0|(13424,[0,1,5,20,...|[-803.13623340156...|[1.0,2.7071860143...|       0.0|\n",
      "|  0.0|(13424,[0,1,7,8,1...|[-1152.0926413349...|[1.0,6.3682506790...|       0.0|\n",
      "|  0.0|(13424,[0,1,7,15,...|[-656.71821333935...|[1.0,7.6641099247...|       0.0|\n",
      "|  0.0|(13424,[0,1,12,33...|[-444.22584589378...|[1.0,1.4534997554...|       0.0|\n",
      "+-----+--------------------+--------------------+--------------------+----------+\n",
      "only showing top 5 rows\n",
      "\n"
     ]
    }
   ],
   "source": [
    "test_result.show(5)"
   ]
  },
  {
   "cell_type": "code",
   "execution_count": 28,
   "id": "52212057",
   "metadata": {},
   "outputs": [
    {
     "name": "stdout",
     "output_type": "stream",
     "text": [
      "['label', 'features', 'rawPrediction', 'probability', 'prediction']\n"
     ]
    }
   ],
   "source": [
    "print(test_result.columns)"
   ]
  },
  {
   "cell_type": "code",
   "execution_count": 29,
   "id": "490ac52f",
   "metadata": {},
   "outputs": [],
   "source": [
    "from pyspark.ml.evaluation import MulticlassClassificationEvaluator"
   ]
  },
  {
   "cell_type": "code",
   "execution_count": 30,
   "id": "29fdf4a4",
   "metadata": {},
   "outputs": [],
   "source": [
    "evaluator = MulticlassClassificationEvaluator(labelCol= 'label', \n",
    "                                              predictionCol= 'prediction', \n",
    "                                              metricName= 'accuracy')"
   ]
  },
  {
   "cell_type": "code",
   "execution_count": 31,
   "id": "bbea3ba2",
   "metadata": {},
   "outputs": [],
   "source": [
    "accuracy = evaluator.evaluate(test_result)"
   ]
  },
  {
   "cell_type": "code",
   "execution_count": 32,
   "id": "1b05584c",
   "metadata": {},
   "outputs": [
    {
     "name": "stdout",
     "output_type": "stream",
     "text": [
      "0.9196484620213434\n"
     ]
    }
   ],
   "source": [
    "print(accuracy)"
   ]
  },
  {
   "cell_type": "code",
   "execution_count": 33,
   "id": "d2a712c2",
   "metadata": {},
   "outputs": [],
   "source": [
    "acc_eval = MulticlassClassificationEvaluator()"
   ]
  },
  {
   "cell_type": "code",
   "execution_count": 34,
   "id": "67efb482",
   "metadata": {},
   "outputs": [],
   "source": [
    "acc = acc_eval.evaluate(test_result)"
   ]
  },
  {
   "cell_type": "code",
   "execution_count": 35,
   "id": "a1cb39ef",
   "metadata": {},
   "outputs": [
    {
     "name": "stdout",
     "output_type": "stream",
     "text": [
      "accuracy : 0.9266021977210805\n"
     ]
    }
   ],
   "source": [
    "print(f'accuracy : {acc}')"
   ]
  }
 ],
 "metadata": {
  "kernelspec": {
   "display_name": "Python 3",
   "language": "python",
   "name": "python3"
  },
  "language_info": {
   "codemirror_mode": {
    "name": "ipython",
    "version": 3
   },
   "file_extension": ".py",
   "mimetype": "text/x-python",
   "name": "python",
   "nbconvert_exporter": "python",
   "pygments_lexer": "ipython3",
   "version": "3.7.10"
  }
 },
 "nbformat": 4,
 "nbformat_minor": 5
}
