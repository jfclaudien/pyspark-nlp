{
 "cells": [
  {
   "cell_type": "code",
   "execution_count": 1,
   "id": "52c5cbf3",
   "metadata": {},
   "outputs": [],
   "source": [
    "import pyspark\n",
    "from pyspark.sql import SparkSession"
   ]
  },
  {
   "cell_type": "code",
   "execution_count": 2,
   "id": "b41cddfb",
   "metadata": {},
   "outputs": [
    {
     "name": "stdout",
     "output_type": "stream",
     "text": [
      "Cores: 1\n"
     ]
    },
    {
     "data": {
      "text/html": [
       "\n",
       "            <div>\n",
       "                <p><b>SparkSession - in-memory</b></p>\n",
       "                \n",
       "        <div>\n",
       "            <p><b>SparkContext</b></p>\n",
       "\n",
       "            <p><a href=\"http://DESKTOP-TKLQQ6P:4041\">Spark UI</a></p>\n",
       "\n",
       "            <dl>\n",
       "              <dt>Version</dt>\n",
       "                <dd><code>v3.0.2</code></dd>\n",
       "              <dt>Master</dt>\n",
       "                <dd><code>local[*]</code></dd>\n",
       "              <dt>AppName</dt>\n",
       "                <dd><code>Spam Classifier</code></dd>\n",
       "            </dl>\n",
       "        </div>\n",
       "        \n",
       "            </div>\n",
       "        "
      ],
      "text/plain": [
       "<pyspark.sql.session.SparkSession at 0x24fbf5b7708>"
      ]
     },
     "execution_count": 2,
     "metadata": {},
     "output_type": "execute_result"
    }
   ],
   "source": [
    "spark = SparkSession.builder.appName('Spam Classifier').getOrCreate()\n",
    "cores = spark._jsc.sc().getExecutorMemoryStatus().keySet().size()\n",
    "print(f'Cores: {cores}')\n",
    "spark"
   ]
  },
  {
   "cell_type": "code",
   "execution_count": 3,
   "id": "c0ce5b46",
   "metadata": {},
   "outputs": [],
   "source": [
    "data = spark.read.csv('./data/SMSSpamCollection', inferSchema= True, sep= '\\t')"
   ]
  },
  {
   "cell_type": "code",
   "execution_count": 5,
   "id": "5f099b46",
   "metadata": {},
   "outputs": [],
   "source": [
    "data = data.withColumnRenamed('_c0', 'class').withColumnRenamed('_c1', 'text')"
   ]
  },
  {
   "cell_type": "code",
   "execution_count": 9,
   "id": "f907cbd6",
   "metadata": {},
   "outputs": [
    {
     "name": "stdout",
     "output_type": "stream",
     "text": [
      "+-----+-----------------------------------------------------------------------------------------------------------------------------------------------------------+\n",
      "|class|text                                                                                                                                                       |\n",
      "+-----+-----------------------------------------------------------------------------------------------------------------------------------------------------------+\n",
      "|ham  |Go until jurong point, crazy.. Available only in bugis n great world la e buffet... Cine there got amore wat...                                            |\n",
      "|ham  |Ok lar... Joking wif u oni...                                                                                                                              |\n",
      "|spam |Free entry in 2 a wkly comp to win FA Cup final tkts 21st May 2005. Text FA to 87121 to receive entry question(std txt rate)T&C's apply 08452810075over18's|\n",
      "|ham  |U dun say so early hor... U c already then say...                                                                                                          |\n",
      "+-----+-----------------------------------------------------------------------------------------------------------------------------------------------------------+\n",
      "only showing top 4 rows\n",
      "\n"
     ]
    }
   ],
   "source": [
    "data.show(4, False)"
   ]
  },
  {
   "cell_type": "code",
   "execution_count": 10,
   "id": "e59d3c80",
   "metadata": {},
   "outputs": [],
   "source": [
    "from pyspark.sql.functions import length"
   ]
  },
  {
   "cell_type": "code",
   "execution_count": 11,
   "id": "b1958e2d",
   "metadata": {},
   "outputs": [],
   "source": [
    "data = data.withColumn('length', length(data.text))"
   ]
  },
  {
   "cell_type": "code",
   "execution_count": 13,
   "id": "30521216",
   "metadata": {},
   "outputs": [
    {
     "name": "stdout",
     "output_type": "stream",
     "text": [
      "+-----+--------------------+------+\n",
      "|class|                text|length|\n",
      "+-----+--------------------+------+\n",
      "|  ham|Go until jurong p...|   111|\n",
      "|  ham|Ok lar... Joking ...|    29|\n",
      "| spam|Free entry in 2 a...|   155|\n",
      "|  ham|U dun say so earl...|    49|\n",
      "|  ham|Nah I don't think...|    61|\n",
      "+-----+--------------------+------+\n",
      "only showing top 5 rows\n",
      "\n"
     ]
    }
   ],
   "source": [
    "data.show(5)"
   ]
  },
  {
   "cell_type": "code",
   "execution_count": 14,
   "id": "2a68a999",
   "metadata": {},
   "outputs": [
    {
     "name": "stdout",
     "output_type": "stream",
     "text": [
      "+-----+-----------------+\n",
      "|class|      avg(length)|\n",
      "+-----+-----------------+\n",
      "|  ham|71.45431945307645|\n",
      "| spam|138.6706827309237|\n",
      "+-----+-----------------+\n",
      "\n"
     ]
    }
   ],
   "source": [
    "data.groupBy('class').mean().show()"
   ]
  },
  {
   "cell_type": "code",
   "execution_count": 18,
   "id": "8b1edbd0",
   "metadata": {},
   "outputs": [],
   "source": [
    "from pyspark.ml.feature import (Tokenizer, StopWordsRemover, \n",
    "                                CountVectorizer, IDF, StringIndexer, \n",
    "                                VectorAssembler)"
   ]
  },
  {
   "cell_type": "code",
   "execution_count": 16,
   "id": "3269a5b0",
   "metadata": {},
   "outputs": [],
   "source": [
    "tokenizer = Tokenizer(inputCol= 'text', outputCol= 'token_text')\n",
    "stop_remove = StopWordsRemover(inputCol= 'token_text', outputCol= 'stop_token')\n",
    "count_vec = CountVectorizer(inputCol= 'stop_token', outputCol= 'c_vec')\n",
    "idf = IDF(inputCol= 'c_vec', outputCol= 'tf_idf')"
   ]
  },
  {
   "cell_type": "code",
   "execution_count": 17,
   "id": "08fbbc33",
   "metadata": {},
   "outputs": [],
   "source": [
    "ham_spam_label_encoder = StringIndexer(inputCol='class', outputCol= 'label')"
   ]
  },
  {
   "cell_type": "code",
   "execution_count": 19,
   "id": "4039659e",
   "metadata": {},
   "outputs": [],
   "source": [
    "clean_up = VectorAssembler(inputCols= ['tf_idf', 'length'], outputCol= 'features')"
   ]
  },
  {
   "cell_type": "code",
   "execution_count": 20,
   "id": "8d6e6c22",
   "metadata": {},
   "outputs": [],
   "source": [
    "from pyspark.ml.classification import NaiveBayes"
   ]
  },
  {
   "cell_type": "code",
   "execution_count": 21,
   "id": "82327ac0",
   "metadata": {},
   "outputs": [],
   "source": [
    "nb = NaiveBayes()"
   ]
  },
  {
   "cell_type": "code",
   "execution_count": 22,
   "id": "8241574e",
   "metadata": {},
   "outputs": [],
   "source": [
    "from pyspark.ml import Pipeline"
   ]
  },
  {
   "cell_type": "code",
   "execution_count": 24,
   "id": "7edba240",
   "metadata": {},
   "outputs": [],
   "source": [
    "data_prep_pipe = Pipeline(stages= [ham_spam_label_encoder, \n",
    "                                   tokenizer, \n",
    "                                   stop_remove, \n",
    "                                   count_vec, \n",
    "                                   idf, clean_up])"
   ]
  },
  {
   "cell_type": "code",
   "execution_count": 25,
   "id": "9cb32695",
   "metadata": {},
   "outputs": [],
   "source": [
    "cleaner = data_prep_pipe.fit(data)"
   ]
  },
  {
   "cell_type": "code",
   "execution_count": 26,
   "id": "556514a8",
   "metadata": {},
   "outputs": [],
   "source": [
    "clean_data = cleaner.transform(data)"
   ]
  },
  {
   "cell_type": "code",
   "execution_count": 27,
   "id": "b8dc7397",
   "metadata": {},
   "outputs": [
    {
     "name": "stdout",
     "output_type": "stream",
     "text": [
      "['class', 'text', 'length', 'label', 'token_text', 'stop_token', 'c_vec', 'tf_idf', 'features']\n"
     ]
    }
   ],
   "source": [
    "print(clean_data.columns)"
   ]
  },
  {
   "cell_type": "code",
   "execution_count": 28,
   "id": "43ead53e",
   "metadata": {},
   "outputs": [],
   "source": [
    "clean_data = clean_data.select('label', 'features')"
   ]
  },
  {
   "cell_type": "code",
   "execution_count": 33,
   "id": "80cb647d",
   "metadata": {},
   "outputs": [
    {
     "name": "stdout",
     "output_type": "stream",
     "text": [
      "+-----+--------------------+\n",
      "|label|            features|\n",
      "+-----+--------------------+\n",
      "|  0.0|(13424,[7,11,31,6...|\n",
      "|  0.0|(13424,[0,24,297,...|\n",
      "|  1.0|(13424,[2,13,19,3...|\n",
      "|  0.0|(13424,[0,70,80,1...|\n",
      "|  0.0|(13424,[36,134,31...|\n",
      "+-----+--------------------+\n",
      "only showing top 5 rows\n",
      "\n"
     ]
    }
   ],
   "source": [
    "clean_data.show(5)"
   ]
  },
  {
   "cell_type": "code",
   "execution_count": 36,
   "id": "a3403661",
   "metadata": {},
   "outputs": [],
   "source": [
    "xTrain, xTest = clean_data.randomSplit([0.7, 0.3], seed= 42)"
   ]
  },
  {
   "cell_type": "code",
   "execution_count": 37,
   "id": "ae8f2c3e",
   "metadata": {},
   "outputs": [],
   "source": [
    "spam_detector = nb.fit(xTrain)"
   ]
  },
  {
   "cell_type": "code",
   "execution_count": 38,
   "id": "672614e0",
   "metadata": {},
   "outputs": [
    {
     "name": "stdout",
     "output_type": "stream",
     "text": [
      "root\n",
      " |-- class: string (nullable = true)\n",
      " |-- text: string (nullable = true)\n",
      " |-- length: integer (nullable = true)\n",
      "\n"
     ]
    }
   ],
   "source": [
    "data.printSchema()"
   ]
  },
  {
   "cell_type": "code",
   "execution_count": 39,
   "id": "dbe5cbda",
   "metadata": {},
   "outputs": [],
   "source": [
    "test_result = spam_detector.transform(xTest)"
   ]
  },
  {
   "cell_type": "code",
   "execution_count": 41,
   "id": "2dada441",
   "metadata": {},
   "outputs": [
    {
     "name": "stdout",
     "output_type": "stream",
     "text": [
      "+-----+--------------------+--------------------+--------------------+----------+\n",
      "|label|            features|       rawPrediction|         probability|prediction|\n",
      "+-----+--------------------+--------------------+--------------------+----------+\n",
      "|  0.0|(13424,[0,1,2,41,...|[-1060.7325420854...|[1.0,9.6391158107...|       0.0|\n",
      "|  0.0|(13424,[0,1,5,20,...|[-803.13623340156...|[1.0,2.7071860143...|       0.0|\n",
      "|  0.0|(13424,[0,1,7,8,1...|[-1152.0926413349...|[1.0,6.3682506790...|       0.0|\n",
      "|  0.0|(13424,[0,1,7,15,...|[-656.71821333935...|[1.0,7.6641099247...|       0.0|\n",
      "|  0.0|(13424,[0,1,12,33...|[-444.22584589378...|[1.0,1.4534997554...|       0.0|\n",
      "+-----+--------------------+--------------------+--------------------+----------+\n",
      "only showing top 5 rows\n",
      "\n"
     ]
    }
   ],
   "source": [
    "test_result.show(5)"
   ]
  },
  {
   "cell_type": "code",
   "execution_count": 42,
   "id": "964e0d98",
   "metadata": {},
   "outputs": [
    {
     "name": "stdout",
     "output_type": "stream",
     "text": [
      "['label', 'features', 'rawPrediction', 'probability', 'prediction']\n"
     ]
    }
   ],
   "source": [
    "print(test_result.columns)"
   ]
  },
  {
   "cell_type": "code",
   "execution_count": 43,
   "id": "2170a4c6",
   "metadata": {},
   "outputs": [],
   "source": [
    "from pyspark.ml.evaluation import MulticlassClassificationEvaluator"
   ]
  },
  {
   "cell_type": "code",
   "execution_count": 44,
   "id": "c547ef8a",
   "metadata": {},
   "outputs": [],
   "source": [
    "evaluator = MulticlassClassificationEvaluator(labelCol= 'label', \n",
    "                                              predictionCol= 'prediction', \n",
    "                                              metricName= 'accuracy')"
   ]
  },
  {
   "cell_type": "code",
   "execution_count": 46,
   "id": "c3873c2e",
   "metadata": {},
   "outputs": [],
   "source": [
    "accuracy = evaluator.evaluate(test_result)"
   ]
  },
  {
   "cell_type": "code",
   "execution_count": 51,
   "id": "d239ba1c",
   "metadata": {},
   "outputs": [
    {
     "name": "stdout",
     "output_type": "stream",
     "text": [
      "0.9196484620213434\n"
     ]
    }
   ],
   "source": [
    "print(accuracy)"
   ]
  },
  {
   "cell_type": "code",
   "execution_count": 48,
   "id": "48158b79",
   "metadata": {},
   "outputs": [],
   "source": [
    "acc_eval = MulticlassClassificationEvaluator()"
   ]
  },
  {
   "cell_type": "code",
   "execution_count": 49,
   "id": "fe3b81b6",
   "metadata": {},
   "outputs": [],
   "source": [
    "acc = acc_eval.evaluate(test_result)"
   ]
  },
  {
   "cell_type": "code",
   "execution_count": 50,
   "id": "1ad9a0f5",
   "metadata": {},
   "outputs": [
    {
     "name": "stdout",
     "output_type": "stream",
     "text": [
      "0.9266021977210805\n"
     ]
    }
   ],
   "source": [
    "print(acc)"
   ]
  },
  {
   "cell_type": "code",
   "execution_count": null,
   "id": "0e44a8f1",
   "metadata": {},
   "outputs": [],
   "source": []
  },
  {
   "cell_type": "code",
   "execution_count": null,
   "id": "a640a0fa",
   "metadata": {},
   "outputs": [],
   "source": []
  },
  {
   "cell_type": "code",
   "execution_count": null,
   "id": "7e4d96b2",
   "metadata": {},
   "outputs": [],
   "source": []
  },
  {
   "cell_type": "code",
   "execution_count": null,
   "id": "2930c454",
   "metadata": {},
   "outputs": [],
   "source": []
  },
  {
   "cell_type": "code",
   "execution_count": null,
   "id": "8b6cf8a4",
   "metadata": {},
   "outputs": [],
   "source": []
  },
  {
   "cell_type": "code",
   "execution_count": null,
   "id": "8a96a85d",
   "metadata": {},
   "outputs": [],
   "source": []
  }
 ],
 "metadata": {
  "kernelspec": {
   "display_name": "Python 3",
   "language": "python",
   "name": "python3"
  },
  "language_info": {
   "codemirror_mode": {
    "name": "ipython",
    "version": 3
   },
   "file_extension": ".py",
   "mimetype": "text/x-python",
   "name": "python",
   "nbconvert_exporter": "python",
   "pygments_lexer": "ipython3",
   "version": "3.7.10"
  }
 },
 "nbformat": 4,
 "nbformat_minor": 5
}
